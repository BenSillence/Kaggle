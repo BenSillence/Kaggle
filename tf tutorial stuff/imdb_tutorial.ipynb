{
 "cells": [
  {
   "cell_type": "code",
   "execution_count": 3,
   "metadata": {},
   "outputs": [
    {
     "name": "stdout",
     "output_type": "stream",
     "text": [
      "1.10.0\n"
     ]
    }
   ],
   "source": [
    "import tensorflow as tf\n",
    "from tensorflow import keras\n",
    "\n",
    "import numpy as np\n",
    "\n",
    "print(tf.__version__)"
   ]
  },
  {
   "cell_type": "code",
   "execution_count": 4,
   "metadata": {},
   "outputs": [
    {
     "name": "stdout",
     "output_type": "stream",
     "text": [
      "Downloading data from https://storage.googleapis.com/tensorflow/tf-keras-datasets/imdb.npz\n",
      "17465344/17464789 [==============================] - 105s 6us/step\n"
     ]
    }
   ],
   "source": [
    "imdb = keras.datasets.imdb\n",
    "\n",
    "(train_data, train_labels), (test_data, test_labels) = imdb.load_data(num_words=10000)"
   ]
  },
  {
   "cell_type": "code",
   "execution_count": 5,
   "metadata": {},
   "outputs": [
    {
     "name": "stdout",
     "output_type": "stream",
     "text": [
      "Training entries: 25000, labels: 25000\n"
     ]
    }
   ],
   "source": [
    "print(\"Training entries: {}, labels: {}\".format(len(train_data), len(train_labels)))"
   ]
  },
  {
   "cell_type": "code",
   "execution_count": 6,
   "metadata": {},
   "outputs": [
    {
     "name": "stdout",
     "output_type": "stream",
     "text": [
      "[1, 14, 22, 16, 43, 530, 973, 1622, 1385, 65, 458, 4468, 66, 3941, 4, 173, 36, 256, 5, 25, 100, 43, 838, 112, 50, 670, 2, 9, 35, 480, 284, 5, 150, 4, 172, 112, 167, 2, 336, 385, 39, 4, 172, 4536, 1111, 17, 546, 38, 13, 447, 4, 192, 50, 16, 6, 147, 2025, 19, 14, 22, 4, 1920, 4613, 469, 4, 22, 71, 87, 12, 16, 43, 530, 38, 76, 15, 13, 1247, 4, 22, 17, 515, 17, 12, 16, 626, 18, 2, 5, 62, 386, 12, 8, 316, 8, 106, 5, 4, 2223, 5244, 16, 480, 66, 3785, 33, 4, 130, 12, 16, 38, 619, 5, 25, 124, 51, 36, 135, 48, 25, 1415, 33, 6, 22, 12, 215, 28, 77, 52, 5, 14, 407, 16, 82, 2, 8, 4, 107, 117, 5952, 15, 256, 4, 2, 7, 3766, 5, 723, 36, 71, 43, 530, 476, 26, 400, 317, 46, 7, 4, 2, 1029, 13, 104, 88, 4, 381, 15, 297, 98, 32, 2071, 56, 26, 141, 6, 194, 7486, 18, 4, 226, 22, 21, 134, 476, 26, 480, 5, 144, 30, 5535, 18, 51, 36, 28, 224, 92, 25, 104, 4, 226, 65, 16, 38, 1334, 88, 12, 16, 283, 5, 16, 4472, 113, 103, 32, 15, 16, 5345, 19, 178, 32]\n"
     ]
    }
   ],
   "source": [
    "print(train_data[0])"
   ]
  },
  {
   "cell_type": "code",
   "execution_count": 7,
   "metadata": {},
   "outputs": [
    {
     "data": {
      "text/plain": [
       "(218, 189)"
      ]
     },
     "execution_count": 7,
     "metadata": {},
     "output_type": "execute_result"
    }
   ],
   "source": [
    "len(train_data[0]), len(train_data[1])\n"
   ]
  },
  {
   "cell_type": "code",
   "execution_count": 8,
   "metadata": {},
   "outputs": [
    {
     "name": "stdout",
     "output_type": "stream",
     "text": [
      "Downloading data from https://storage.googleapis.com/tensorflow/tf-keras-datasets/imdb_word_index.json\n",
      "1646592/1641221 [==============================] - 10s 6us/step\n"
     ]
    }
   ],
   "source": [
    "# A dictionary mapping words to an integer index\n",
    "word_index = imdb.get_word_index()\n",
    "\n",
    "# The first indices are reserved\n",
    "word_index = {k:(v+3) for k,v in word_index.items()} \n",
    "word_index[\"<PAD>\"] = 0\n",
    "word_index[\"<START>\"] = 1\n",
    "word_index[\"<UNK>\"] = 2  # unknown\n",
    "word_index[\"<UNUSED>\"] = 3\n",
    "\n",
    "reverse_word_index = dict([(value, key) for (key, value) in word_index.items()])\n",
    "\n",
    "def decode_review(text):\n",
    "    return ' '.join([reverse_word_index.get(i, '?') for i in text])"
   ]
  },
  {
   "cell_type": "code",
   "execution_count": 9,
   "metadata": {},
   "outputs": [
    {
     "data": {
      "text/plain": [
       "\"<START> this film was just brilliant casting location scenery story direction everyone's really suited the part they played and you could just imagine being there robert <UNK> is an amazing actor and now the same being director <UNK> father came from the same scottish island as myself so i loved the fact there was a real connection with this film the witty remarks throughout the film were great it was just brilliant so much that i bought the film as soon as it was released for <UNK> and would recommend it to everyone to watch and the fly fishing was amazing really cried at the end it was so sad and you know what they say if you cry at a film it must have been good and this definitely was also <UNK> to the two little boy's that played the <UNK> of norman and paul they were just brilliant children are often left out of the <UNK> list i think because the stars that play them all grown up are such a big profile for the whole film but these children are amazing and should be praised for what they have done don't you think the whole story was so lovely because it was true and was someone's life after all that was shared with us all\""
      ]
     },
     "execution_count": 9,
     "metadata": {},
     "output_type": "execute_result"
    }
   ],
   "source": [
    "decode_review(train_data[0])\n"
   ]
  },
  {
   "cell_type": "code",
   "execution_count": 10,
   "metadata": {},
   "outputs": [],
   "source": [
    "train_data = keras.preprocessing.sequence.pad_sequences(train_data,\n",
    "                                                        value=word_index[\"<PAD>\"],\n",
    "                                                        padding='post',\n",
    "                                                        maxlen=256)\n",
    "\n",
    "test_data = keras.preprocessing.sequence.pad_sequences(test_data,\n",
    "                                                       value=word_index[\"<PAD>\"],\n",
    "                                                       padding='post',\n",
    "                                                       maxlen=256)"
   ]
  },
  {
   "cell_type": "code",
   "execution_count": 11,
   "metadata": {},
   "outputs": [
    {
     "data": {
      "text/plain": [
       "(256, 256)"
      ]
     },
     "execution_count": 11,
     "metadata": {},
     "output_type": "execute_result"
    }
   ],
   "source": [
    "len(train_data[0]), len(train_data[1])\n"
   ]
  },
  {
   "cell_type": "code",
   "execution_count": 12,
   "metadata": {},
   "outputs": [
    {
     "name": "stdout",
     "output_type": "stream",
     "text": [
      "[   1   14   22   16   43  530  973 1622 1385   65  458 4468   66 3941\n",
      "    4  173   36  256    5   25  100   43  838  112   50  670    2    9\n",
      "   35  480  284    5  150    4  172  112  167    2  336  385   39    4\n",
      "  172 4536 1111   17  546   38   13  447    4  192   50   16    6  147\n",
      " 2025   19   14   22    4 1920 4613  469    4   22   71   87   12   16\n",
      "   43  530   38   76   15   13 1247    4   22   17  515   17   12   16\n",
      "  626   18    2    5   62  386   12    8  316    8  106    5    4 2223\n",
      " 5244   16  480   66 3785   33    4  130   12   16   38  619    5   25\n",
      "  124   51   36  135   48   25 1415   33    6   22   12  215   28   77\n",
      "   52    5   14  407   16   82    2    8    4  107  117 5952   15  256\n",
      "    4    2    7 3766    5  723   36   71   43  530  476   26  400  317\n",
      "   46    7    4    2 1029   13  104   88    4  381   15  297   98   32\n",
      " 2071   56   26  141    6  194 7486   18    4  226   22   21  134  476\n",
      "   26  480    5  144   30 5535   18   51   36   28  224   92   25  104\n",
      "    4  226   65   16   38 1334   88   12   16  283    5   16 4472  113\n",
      "  103   32   15   16 5345   19  178   32    0    0    0    0    0    0\n",
      "    0    0    0    0    0    0    0    0    0    0    0    0    0    0\n",
      "    0    0    0    0    0    0    0    0    0    0    0    0    0    0\n",
      "    0    0    0    0]\n"
     ]
    }
   ],
   "source": [
    "print(train_data[0])"
   ]
  },
  {
   "cell_type": "code",
   "execution_count": 13,
   "metadata": {},
   "outputs": [
    {
     "name": "stdout",
     "output_type": "stream",
     "text": [
      "_________________________________________________________________\n",
      "Layer (type)                 Output Shape              Param #   \n",
      "=================================================================\n",
      "embedding (Embedding)        (None, None, 16)          160000    \n",
      "_________________________________________________________________\n",
      "global_average_pooling1d (Gl (None, 16)                0         \n",
      "_________________________________________________________________\n",
      "dense (Dense)                (None, 16)                272       \n",
      "_________________________________________________________________\n",
      "dense_1 (Dense)              (None, 1)                 17        \n",
      "=================================================================\n",
      "Total params: 160,289\n",
      "Trainable params: 160,289\n",
      "Non-trainable params: 0\n",
      "_________________________________________________________________\n"
     ]
    }
   ],
   "source": [
    "# input shape is the vocabulary count used for the movie reviews (10,000 words)\n",
    "vocab_size = 10000\n",
    "\n",
    "model = keras.Sequential()\n",
    "model.add(keras.layers.Embedding(vocab_size, 16))\n",
    "model.add(keras.layers.GlobalAveragePooling1D())\n",
    "model.add(keras.layers.Dense(16, activation=tf.nn.relu))\n",
    "model.add(keras.layers.Dense(1, activation=tf.nn.sigmoid))\n",
    "\n",
    "model.summary()"
   ]
  },
  {
   "cell_type": "code",
   "execution_count": 14,
   "metadata": {},
   "outputs": [],
   "source": [
    "model.compile(optimizer=tf.train.AdamOptimizer(),\n",
    "              loss='binary_crossentropy',\n",
    "              metrics=['accuracy'])"
   ]
  },
  {
   "cell_type": "code",
   "execution_count": 15,
   "metadata": {},
   "outputs": [],
   "source": [
    "x_val = train_data[:10000]\n",
    "partial_x_train = train_data[10000:]\n",
    "\n",
    "y_val = train_labels[:10000]\n",
    "partial_y_train = train_labels[10000:]\n"
   ]
  },
  {
   "cell_type": "code",
   "execution_count": 16,
   "metadata": {},
   "outputs": [
    {
     "name": "stdout",
     "output_type": "stream",
     "text": [
      "Train on 15000 samples, validate on 10000 samples\n",
      "Epoch 1/40\n",
      "15000/15000 [==============================] - 3s 233us/step - loss: 0.7162 - acc: 0.5095 - val_loss: 0.6921 - val_acc: 0.5118\n",
      "Epoch 2/40\n",
      "15000/15000 [==============================] - 2s 148us/step - loss: 0.6914 - acc: 0.5414 - val_loss: 0.6900 - val_acc: 0.5951\n",
      "Epoch 3/40\n",
      "15000/15000 [==============================] - 2s 154us/step - loss: 0.6884 - acc: 0.6189 - val_loss: 0.6877 - val_acc: 0.6003\n",
      "Epoch 4/40\n",
      "15000/15000 [==============================] - 3s 198us/step - loss: 0.6857 - acc: 0.6766 - val_loss: 0.6851 - val_acc: 0.6209\n",
      "Epoch 5/40\n",
      "15000/15000 [==============================] - 3s 173us/step - loss: 0.6823 - acc: 0.6433 - val_loss: 0.6815 - val_acc: 0.7382\n",
      "Epoch 6/40\n",
      "15000/15000 [==============================] - 2s 158us/step - loss: 0.6784 - acc: 0.7457 - val_loss: 0.6776 - val_acc: 0.7460\n",
      "Epoch 7/40\n",
      "15000/15000 [==============================] - 3s 197us/step - loss: 0.6734 - acc: 0.7526 - val_loss: 0.6729 - val_acc: 0.7155\n",
      "Epoch 8/40\n",
      "15000/15000 [==============================] - 3s 203us/step - loss: 0.6673 - acc: 0.7572 - val_loss: 0.6665 - val_acc: 0.7527\n",
      "Epoch 9/40\n",
      "15000/15000 [==============================] - 3s 183us/step - loss: 0.6594 - acc: 0.7771 - val_loss: 0.6583 - val_acc: 0.7631\n",
      "Epoch 10/40\n",
      "15000/15000 [==============================] - 3s 207us/step - loss: 0.6492 - acc: 0.7827 - val_loss: 0.6477 - val_acc: 0.7637\n",
      "Epoch 11/40\n",
      "15000/15000 [==============================] - 3s 209us/step - loss: 0.6367 - acc: 0.7684 - val_loss: 0.6344 - val_acc: 0.7681\n",
      "Epoch 12/40\n",
      "15000/15000 [==============================] - 3s 184us/step - loss: 0.6199 - acc: 0.7877 - val_loss: 0.6178 - val_acc: 0.7705\n",
      "Epoch 13/40\n",
      "15000/15000 [==============================] - 3s 179us/step - loss: 0.5996 - acc: 0.7936 - val_loss: 0.5994 - val_acc: 0.7775\n",
      "Epoch 14/40\n",
      "15000/15000 [==============================] - 3s 185us/step - loss: 0.5765 - acc: 0.8016 - val_loss: 0.5763 - val_acc: 0.7882\n",
      "Epoch 15/40\n",
      "15000/15000 [==============================] - 3s 181us/step - loss: 0.5503 - acc: 0.8107 - val_loss: 0.5512 - val_acc: 0.7944\n",
      "Epoch 16/40\n",
      "15000/15000 [==============================] - 3s 186us/step - loss: 0.5230 - acc: 0.8181 - val_loss: 0.5262 - val_acc: 0.8015\n",
      "Epoch 17/40\n",
      "15000/15000 [==============================] - 3s 180us/step - loss: 0.4939 - acc: 0.8322 - val_loss: 0.5007 - val_acc: 0.8148\n",
      "Epoch 18/40\n",
      "15000/15000 [==============================] - 3s 196us/step - loss: 0.4654 - acc: 0.8418 - val_loss: 0.4751 - val_acc: 0.8244\n",
      "Epoch 19/40\n",
      "15000/15000 [==============================] - 3s 198us/step - loss: 0.4377 - acc: 0.8500 - val_loss: 0.4511 - val_acc: 0.8322\n",
      "Epoch 20/40\n",
      "15000/15000 [==============================] - 3s 202us/step - loss: 0.4116 - acc: 0.8603 - val_loss: 0.4290 - val_acc: 0.8389\n",
      "Epoch 21/40\n",
      "15000/15000 [==============================] - 3s 181us/step - loss: 0.3872 - acc: 0.8693 - val_loss: 0.4090 - val_acc: 0.8465\n",
      "Epoch 22/40\n",
      "15000/15000 [==============================] - 3s 199us/step - loss: 0.3654 - acc: 0.8759 - val_loss: 0.3917 - val_acc: 0.8527\n",
      "Epoch 23/40\n",
      "15000/15000 [==============================] - 3s 181us/step - loss: 0.3464 - acc: 0.8816 - val_loss: 0.3771 - val_acc: 0.8571\n",
      "Epoch 24/40\n",
      "15000/15000 [==============================] - 3s 179us/step - loss: 0.3291 - acc: 0.8871 - val_loss: 0.3641 - val_acc: 0.8624\n",
      "Epoch 25/40\n",
      "15000/15000 [==============================] - 3s 193us/step - loss: 0.3141 - acc: 0.8911 - val_loss: 0.3533 - val_acc: 0.8652\n",
      "Epoch 26/40\n",
      "15000/15000 [==============================] - 3s 189us/step - loss: 0.3007 - acc: 0.8949 - val_loss: 0.3444 - val_acc: 0.8666\n",
      "Epoch 27/40\n",
      "15000/15000 [==============================] - 3s 200us/step - loss: 0.2891 - acc: 0.8987 - val_loss: 0.3364 - val_acc: 0.8692\n",
      "Epoch 28/40\n",
      "15000/15000 [==============================] - 3s 200us/step - loss: 0.2779 - acc: 0.9029 - val_loss: 0.3292 - val_acc: 0.8705\n",
      "Epoch 29/40\n",
      "15000/15000 [==============================] - 3s 217us/step - loss: 0.2683 - acc: 0.9041 - val_loss: 0.3239 - val_acc: 0.8729\n",
      "Epoch 30/40\n",
      "15000/15000 [==============================] - 3s 211us/step - loss: 0.2601 - acc: 0.9059 - val_loss: 0.3184 - val_acc: 0.8753\n",
      "Epoch 31/40\n",
      "15000/15000 [==============================] - 4s 242us/step - loss: 0.2511 - acc: 0.9109 - val_loss: 0.3143 - val_acc: 0.8762\n",
      "Epoch 32/40\n",
      "15000/15000 [==============================] - 3s 227us/step - loss: 0.2440 - acc: 0.9125 - val_loss: 0.3103 - val_acc: 0.8773\n",
      "Epoch 33/40\n",
      "15000/15000 [==============================] - 3s 204us/step - loss: 0.2361 - acc: 0.9155 - val_loss: 0.3069 - val_acc: 0.8782\n",
      "Epoch 34/40\n",
      "15000/15000 [==============================] - 2s 159us/step - loss: 0.2295 - acc: 0.9188 - val_loss: 0.3044 - val_acc: 0.8785\n",
      "Epoch 35/40\n",
      "15000/15000 [==============================] - 3s 179us/step - loss: 0.2236 - acc: 0.9190 - val_loss: 0.3013 - val_acc: 0.8805\n",
      "Epoch 36/40\n",
      "15000/15000 [==============================] - 3s 182us/step - loss: 0.2170 - acc: 0.9235 - val_loss: 0.2991 - val_acc: 0.8805\n",
      "Epoch 37/40\n",
      "15000/15000 [==============================] - 3s 171us/step - loss: 0.2113 - acc: 0.9247 - val_loss: 0.2971 - val_acc: 0.8813\n",
      "Epoch 38/40\n",
      "15000/15000 [==============================] - 2s 158us/step - loss: 0.2060 - acc: 0.9260 - val_loss: 0.2953 - val_acc: 0.8818\n",
      "Epoch 39/40\n",
      "15000/15000 [==============================] - 2s 158us/step - loss: 0.2003 - acc: 0.9285 - val_loss: 0.2935 - val_acc: 0.8827\n",
      "Epoch 40/40\n",
      "15000/15000 [==============================] - 3s 185us/step - loss: 0.1953 - acc: 0.9309 - val_loss: 0.2922 - val_acc: 0.8835\n"
     ]
    }
   ],
   "source": [
    "history = model.fit(partial_x_train,\n",
    "                    partial_y_train,\n",
    "                    epochs=40,\n",
    "                    batch_size=512,\n",
    "                    validation_data=(x_val, y_val),\n",
    "                    verbose=1)"
   ]
  },
  {
   "cell_type": "code",
   "execution_count": 17,
   "metadata": {},
   "outputs": [
    {
     "name": "stdout",
     "output_type": "stream",
     "text": [
      "25000/25000 [==============================] - 3s 101us/step\n",
      "[0.30700300603866576, 0.87292]\n"
     ]
    }
   ],
   "source": [
    "results = model.evaluate(test_data, test_labels)\n",
    "\n",
    "print(results)"
   ]
  },
  {
   "cell_type": "code",
   "execution_count": 18,
   "metadata": {},
   "outputs": [
    {
     "data": {
      "text/plain": [
       "dict_keys(['val_loss', 'val_acc', 'loss', 'acc'])"
      ]
     },
     "execution_count": 18,
     "metadata": {},
     "output_type": "execute_result"
    }
   ],
   "source": [
    "history_dict = history.history\n",
    "history_dict.keys()"
   ]
  },
  {
   "cell_type": "code",
   "execution_count": 19,
   "metadata": {},
   "outputs": [
    {
     "data": {
      "text/plain": [
       "<Figure size 640x480 with 1 Axes>"
      ]
     },
     "metadata": {},
     "output_type": "display_data"
    }
   ],
   "source": [
    "import matplotlib.pyplot as plt\n",
    "\n",
    "acc = history.history['acc']\n",
    "val_acc = history.history['val_acc']\n",
    "loss = history.history['loss']\n",
    "val_loss = history.history['val_loss']\n",
    "\n",
    "epochs = range(1, len(acc) + 1)\n",
    "\n",
    "# \"bo\" is for \"blue dot\"\n",
    "plt.plot(epochs, loss, 'bo', label='Training loss')\n",
    "# b is for \"solid blue line\"\n",
    "plt.plot(epochs, val_loss, 'b', label='Validation loss')\n",
    "plt.title('Training and validation loss')\n",
    "plt.xlabel('Epochs')\n",
    "plt.ylabel('Loss')\n",
    "plt.legend()\n",
    "\n",
    "plt.show()"
   ]
  },
  {
   "cell_type": "code",
   "execution_count": 20,
   "metadata": {},
   "outputs": [
    {
     "data": {
      "image/png": "[encoded data removed]",
      "text/plain": [
       "<Figure size 432x288 with 1 Axes>"
      ]
     },
     "metadata": {
      "needs_background": "light"
     },
     "output_type": "display_data"
    }
   ],
   "source": [
    "plt.clf()   # clear figure\n",
    "acc_values = history_dict['acc']\n",
    "val_acc_values = history_dict['val_acc']\n",
    "\n",
    "plt.plot(epochs, acc, 'bo', label='Training acc')\n",
    "plt.plot(epochs, val_acc, 'b', label='Validation acc')\n",
    "plt.title('Training and validation accuracy')\n",
    "plt.xlabel('Epochs')\n",
    "plt.ylabel('Accuracy')\n",
    "plt.legend()\n",
    "\n",
    "plt.show()"
   ]
  },
  {
   "cell_type": "code",
   "execution_count": null,
   "metadata": {},
   "outputs": [],
   "source": []
  }
 ],
 "metadata": {
  "kernelspec": {
   "display_name": "Python 3",
   "language": "python",
   "name": "python3"
  },
  "language_info": {
   "codemirror_mode": {
    "name": "ipython",
    "version": 3
   },
   "file_extension": ".py",
   "mimetype": "text/x-python",
   "name": "python",
   "nbconvert_exporter": "python",
   "pygments_lexer": "ipython3",
   "version": "3.6.6"
  }
 },
 "nbformat": 4,
 "nbformat_minor": 2
}
