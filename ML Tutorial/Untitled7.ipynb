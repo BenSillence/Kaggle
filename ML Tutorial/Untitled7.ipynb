{
 "cells": [
  {
   "cell_type": "code",
   "execution_count": 6,
   "metadata": {},
   "outputs": [
    {
     "name": "stdout",
     "output_type": "stream",
     "text": [
      "Epoch 1/1\n",
      "60000/60000 [==============================] - 11s 184us/step - loss: 0.3526 - acc: 0.9018\n",
      "10000/10000 [==============================] - 1s 77us/step\n",
      "Test loss: 0.9355\n",
      "Epoch 1/1\n",
      "60000/60000 [==============================] - 11s 176us/step - loss: 0.2884 - acc: 0.9188\n",
      "10000/10000 [==============================] - 1s 84us/step\n",
      "Test loss: 0.9554\n",
      "Epoch 1/1\n",
      "60000/60000 [==============================] - 13s 218us/step - loss: 0.2581 - acc: 0.9265\n",
      "10000/10000 [==============================] - 1s 90us/step\n",
      "Test loss: 0.9589\n",
      "Epoch 1/1\n",
      "60000/60000 [==============================] - 15s 247us/step - loss: 0.2515 - acc: 0.9294\n",
      "10000/10000 [==============================] - 1s 91us/step\n",
      "Test loss: 0.9606\n",
      "Epoch 1/1\n",
      "60000/60000 [==============================] - 18s 298us/step - loss: 0.2333 - acc: 0.9325\n",
      "10000/10000 [==============================] - 2s 232us/step\n",
      "Test loss: 0.9627\n"
     ]
    }
   ],
   "source": [
    "import tensorflow as tf\n",
    "mnist = tf.keras.datasets.mnist\n",
    "\n",
    "(x_train, y_train),(x_test, y_test) = mnist.load_data()\n",
    "x_train, x_test = x_train / 255.0, x_test / 255.0\n",
    "\n",
    "for i in range(1,6):\n",
    "    model = tf.keras.models.Sequential([\n",
    "      tf.keras.layers.Flatten(),\n",
    "      tf.keras.layers.Dense(40*i, activation=tf.nn.relu),\n",
    "      #tf.keras.layers.Dropout(0.2),\n",
    "      tf.keras.layers.Dense(10, activation=tf.nn.softmax)\n",
    "    ])\n",
    "    model.compile(optimizer='adam',\n",
    "                  loss='sparse_categorical_crossentropy',\n",
    "                  metrics=['accuracy'])\n",
    "\n",
    "    model.fit(x_train, y_train, epochs=1)\n",
    "    test_loss, test_acc = model.evaluate(x_test, y_test)\n",
    "    print(\"Test loss: {0}\".format(test_acc))"
   ]
  },
  {
   "cell_type": "code",
   "execution_count": null,
   "metadata": {},
   "outputs": [],
   "source": []
  },
  {
   "cell_type": "code",
   "execution_count": null,
   "metadata": {},
   "outputs": [],
   "source": []
  },
  {
   "cell_type": "code",
   "execution_count": null,
   "metadata": {},
   "outputs": [],
   "source": []
  },
  {
   "cell_type": "code",
   "execution_count": null,
   "metadata": {},
   "outputs": [],
   "source": []
  },
  {
   "cell_type": "code",
   "execution_count": null,
   "metadata": {},
   "outputs": [],
   "source": []
  },
  {
   "cell_type": "code",
   "execution_count": null,
   "metadata": {},
   "outputs": [],
   "source": []
  },
  {
   "cell_type": "code",
   "execution_count": null,
   "metadata": {},
   "outputs": [],
   "source": []
  },
  {
   "cell_type": "code",
   "execution_count": null,
   "metadata": {},
   "outputs": [],
   "source": []
  }
 ],
 "metadata": {
  "kernelspec": {
   "display_name": "Python 3",
   "language": "python",
   "name": "python3"
  },
  "language_info": {
   "codemirror_mode": {
    "name": "ipython",
    "version": 3
   },
   "file_extension": ".py",
   "mimetype": "text/x-python",
   "name": "python",
   "nbconvert_exporter": "python",
   "pygments_lexer": "ipython3",
   "version": "3.6.6"
  }
 },
 "nbformat": 4,
 "nbformat_minor": 2
}
